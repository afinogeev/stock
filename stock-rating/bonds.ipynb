{
 "cells": [
  {
   "cell_type": "code",
   "execution_count": 61,
   "id": "0d20b95e-178c-4c4b-844c-e5484e302b3d",
   "metadata": {},
   "outputs": [
    {
     "name": "stdout",
     "output_type": "stream",
     "text": [
      "getting data\n",
      "waiting data\n",
      "try 1 load data\n",
      "done\n",
      "[{'name': 'ОФЗ 26219', 'profit': 7.79, 'risk': 7.49}, {'name': 'ОФЗ 26229', 'profit': 7.79, 'risk': 6.36}, {'name': 'ОФЗ 26234', 'profit': 7.78, 'risk': 6.25}, {'name': 'ОФЗ 26226', 'profit': 7.77, 'risk': 7.3}, {'name': 'ОФЗ 26222', 'profit': 7.74, 'risk': 4.9}, {'name': 'ОФЗ 25084', 'profit': 7.66, 'risk': 3.43}, {'name': 'ОФЗ 26223', 'profit': 7.66, 'risk': 4.12}, {'name': 'ОФЗ 26227', 'profit': 7.64, 'risk': 4.62}, {'name': 'ОФЗ 26211', 'profit': 7.56, 'risk': 2.35}, {'name': 'ОФЗ 26215', 'profit': 7.5, 'risk': 3.26}, {'name': 'ОФЗ 26220', 'profit': 7.48, 'risk': 2.1}, {'name': 'ОФЗ 26209', 'profit': 7.4, 'risk': 1.47}, {'name': 'ОФЗ 46022', 'profit': 7.23, 'risk': 2.32}, {'name': 'ОФЗ 25083', 'profit': 7.18, 'risk': 0.42}, {'name': 'ОФЗ 46023', 'profit': 6.92, 'risk': 3.37}, {'name': 'ОФЗ 46018', 'profit': 6.5, 'risk': 0.31}, {'name': 'ОФЗ 29012', 'profit': 5.7, 'risk': 2.06}]\n",
      "saving to json-file\n",
      "all done\n"
     ]
    }
   ],
   "source": [
    "#!/usr/bin/python3\n",
    "# -*- coding: utf-8 -*-\n",
    "\n",
    "# from bs4 import BeautifulSoup\n",
    "# import requests as req\n",
    "\n",
    "import time\n",
    "from selenium import webdriver\n",
    "\n",
    "import pandas as pd\n",
    "import json\n",
    "\n",
    "df = pd.DataFrame()\n",
    "            \n",
    "def getData():\n",
    "    options = webdriver.ChromeOptions()\n",
    "    chrome_prefs = {}\n",
    "    options.experimental_options[\"prefs\"] = chrome_prefs\n",
    "    chrome_prefs[\"profile.default_content_settings\"] = {\"images\": 2}\n",
    "    chrome_prefs[\"profile.managed_default_content_settings\"] = {\"images\": 2}\n",
    "    options.headless = True\n",
    "    options.add_argument(\"--headless\")\n",
    "    options.add_argument('--no-sandbox')\n",
    "\n",
    "    driver = webdriver.Chrome(options=options)   \n",
    "    driver.get('https://www.dohod.ru/analytic/bonds')\n",
    "    \n",
    "\n",
    "    driver.find_element_by_xpath('//*[@id=\"sfilter\"]').send_keys('офз')\n",
    "    print('waiting data')\n",
    "    time.sleep(20)\n",
    "    \n",
    "    for i in range(1,11):\n",
    "        try:\n",
    "            print(f'try {i} load data')\n",
    "            time.sleep(5)\n",
    "            tbl = driver.find_element_by_xpath('//*[@id=\"table-bonds\"]').get_attribute('outerHTML')\n",
    "            break\n",
    "        except:\n",
    "            print('cannot load technical data')\n",
    "            if i == 10: return\n",
    "    df  = pd.read_html(tbl)[0]\n",
    "    driver.close()\n",
    "\n",
    "    return df[:-1]\n",
    "\n",
    "print('getting data')\n",
    "try:\n",
    "    df = getData()\n",
    "except Exception as e:\n",
    "    print('cannot get data')\n",
    "    exit()  \n",
    "print('done')   \n",
    "\n",
    "\n",
    "df = df.sort_values(by=['Доходность'], ascending=False)\n",
    "\n",
    "datalist = []\n",
    "for index, row in df.iterrows():\n",
    "    name = row['Название']\n",
    "    profit = float(row['Доходность'])\n",
    "    risk = abs(float(row['Рыночный риск']))\n",
    "    if profit > risk :\n",
    "        data = {'name':name,'profit':profit, 'risk':risk}\n",
    "        datalist.append(data)\n",
    "\n",
    "print(datalist)\n",
    "\n",
    "print('saving to json-file')\n",
    "filename = 'bonds-rating.json'\n",
    "with open(filename, 'w') as outfile:\n",
    "    json.dump(datalist, outfile)\n",
    "    \n",
    "print('all done')"
   ]
  },
  {
   "cell_type": "code",
   "execution_count": 58,
   "id": "334036b4-8f8a-486f-913c-f4afc7fb06df",
   "metadata": {
    "tags": []
   },
   "outputs": [
    {
     "name": "stdout",
     "output_type": "stream",
     "text": [
      "[{'name': 'ОФЗ 29012', 'profit': 5.65, 'risk': 2.06}, {'name': 'ОФЗ 46018', 'profit': 6.53, 'risk': 0.31}, {'name': 'ОФЗ 46023', 'profit': 6.92, 'risk': 3.37}, {'name': 'ОФЗ 25083', 'profit': 6.95, 'risk': 0.42}, {'name': 'ОФЗ 46022', 'profit': 6.99, 'risk': 2.32}, {'name': 'ОФЗ 26209', 'profit': 7.38, 'risk': 1.47}, {'name': 'ОФЗ 26220', 'profit': 7.44, 'risk': 2.1}, {'name': 'ОФЗ 25084', 'profit': 7.47, 'risk': 3.43}, {'name': 'ОФЗ 26215', 'profit': 7.49, 'risk': 3.26}, {'name': 'ОФЗ 26211', 'profit': 7.5, 'risk': 2.35}, {'name': 'ОФЗ 26222', 'profit': 7.55, 'risk': 4.9}, {'name': 'ОФЗ 26226', 'profit': 7.56, 'risk': 7.3}, {'name': 'ОФЗ 26223', 'profit': 7.57, 'risk': 4.12}, {'name': 'ОФЗ 26229', 'profit': 7.58, 'risk': 6.36}, {'name': 'ОФЗ 26219', 'profit': 7.6, 'risk': 7.49}, {'name': 'ОФЗ 26227', 'profit': 7.6, 'risk': 4.62}, {'name': 'ОФЗ 26234', 'profit': 7.61, 'risk': 6.25}]\n"
     ]
    }
   ],
   "source": [
    "# df['Рыночный риск'] = df['Рыночный риск'].astype(float)\n",
    "# df['Доходность'] = df['Доходность'].astype(float)\n",
    "# maxd = df['Доходность'].max()\n",
    "# print(maxd)\n",
    "# dff = df[df['Рыночный риск'] > maxd*(-1)]\n",
    "# print(dff)\n",
    "\n",
    "\n",
    "\n",
    "df = df.sort_values(by=['Доходность'])\n",
    "\n",
    "datalist = []\n",
    "for index, row in df.iterrows():\n",
    "    name = row['Название']\n",
    "    profit = float(row['Доходность'])\n",
    "    risk = abs(float(row['Рыночный риск']))\n",
    "    if profit > risk :\n",
    "        data = {'name':name,'profit':profit, 'risk':risk}\n",
    "        datalist.append(data)\n",
    "\n",
    "print(datalist)\n",
    "\n",
    "print('saving to json-file')\n",
    "filename = 'bonds-rating.json'\n",
    "with open(filename, 'w') as outfile:\n",
    "    json.dump(datalist, outfile)\n",
    "    \n",
    "print('all done')\n"
   ]
  },
  {
   "cell_type": "code",
   "execution_count": null,
   "id": "6060fefb-ca36-4cfc-9d8d-a55e33269be7",
   "metadata": {},
   "outputs": [],
   "source": []
  }
 ],
 "metadata": {
  "kernelspec": {
   "display_name": "Python 3 (ipykernel)",
   "language": "python",
   "name": "python3"
  },
  "language_info": {
   "codemirror_mode": {
    "name": "ipython",
    "version": 3
   },
   "file_extension": ".py",
   "mimetype": "text/x-python",
   "name": "python",
   "nbconvert_exporter": "python",
   "pygments_lexer": "ipython3",
   "version": "3.9.2"
  }
 },
 "nbformat": 4,
 "nbformat_minor": 5
}
