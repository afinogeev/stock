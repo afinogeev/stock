{
 "cells": [
  {
   "cell_type": "code",
   "execution_count": 2,
   "id": "f31d07ab-277c-40b5-9366-ca8528883ed7",
   "metadata": {
    "collapsed": true,
    "jupyter": {
     "outputs_hidden": true
    },
    "tags": []
   },
   "outputs": [
    {
     "name": "stdout",
     "output_type": "stream",
     "text": [
      "Collecting bs4\n",
      "  Downloading bs4-0.0.1.tar.gz (1.1 kB)\n",
      "Collecting beautifulsoup4\n",
      "  Downloading beautifulsoup4-4.10.0-py3-none-any.whl (97 kB)\n",
      "Collecting soupsieve>1.2\n",
      "  Downloading soupsieve-2.2.1-py3-none-any.whl (33 kB)\n",
      "Using legacy 'setup.py install' for bs4, since package 'wheel' is not installed.\n",
      "Installing collected packages: soupsieve, beautifulsoup4, bs4\n",
      "    Running setup.py install for bs4: started\n",
      "    Running setup.py install for bs4: finished with status 'done'\n",
      "Successfully installed beautifulsoup4-4.10.0 bs4-0.0.1 soupsieve-2.2.1\n"
     ]
    },
    {
     "name": "stderr",
     "output_type": "stream",
     "text": [
      "WARNING: You are using pip version 21.1.3; however, version 21.2.4 is available.\n",
      "You should consider upgrading via the 'd:\\projects\\python\\stock\\venv\\scripts\\python.exe -m pip install --upgrade pip' command.\n"
     ]
    },
    {
     "name": "stdout",
     "output_type": "stream",
     "text": [
      "Requirement already satisfied: requests in d:\\projects\\python\\stock\\venv\\lib\\site-packages (2.26.0)\n",
      "Requirement already satisfied: idna<4,>=2.5 in d:\\projects\\python\\stock\\venv\\lib\\site-packages (from requests) (3.2)\n",
      "Requirement already satisfied: urllib3<1.27,>=1.21.1 in d:\\projects\\python\\stock\\venv\\lib\\site-packages (from requests) (1.26.7)\n",
      "Requirement already satisfied: charset-normalizer~=2.0.0 in d:\\projects\\python\\stock\\venv\\lib\\site-packages (from requests) (2.0.6)\n",
      "Requirement already satisfied: certifi>=2017.4.17 in d:\\projects\\python\\stock\\venv\\lib\\site-packages (from requests) (2021.10.8)\n"
     ]
    },
    {
     "name": "stderr",
     "output_type": "stream",
     "text": [
      "WARNING: You are using pip version 21.1.3; however, version 21.2.4 is available.\n",
      "You should consider upgrading via the 'd:\\projects\\python\\stock\\venv\\scripts\\python.exe -m pip install --upgrade pip' command.\n"
     ]
    },
    {
     "name": "stdout",
     "output_type": "stream",
     "text": [
      "Collecting pandas\n",
      "  Downloading pandas-1.3.3-cp39-cp39-win_amd64.whl (10.2 MB)\n",
      "Collecting numpy>=1.17.3\n",
      "  Downloading numpy-1.21.2-cp39-cp39-win_amd64.whl (14.0 MB)\n",
      "Requirement already satisfied: python-dateutil>=2.7.3 in d:\\projects\\python\\stock\\venv\\lib\\site-packages (from pandas) (2.8.2)\n",
      "Requirement already satisfied: pytz>=2017.3 in d:\\projects\\python\\stock\\venv\\lib\\site-packages (from pandas) (2021.3)\n",
      "Requirement already satisfied: six>=1.5 in d:\\projects\\python\\stock\\venv\\lib\\site-packages (from python-dateutil>=2.7.3->pandas) (1.16.0)\n",
      "Installing collected packages: numpy, pandas\n",
      "Successfully installed numpy-1.21.2 pandas-1.3.3\n"
     ]
    },
    {
     "name": "stderr",
     "output_type": "stream",
     "text": [
      "WARNING: You are using pip version 21.1.3; however, version 21.2.4 is available.\n",
      "You should consider upgrading via the 'd:\\projects\\python\\stock\\venv\\scripts\\python.exe -m pip install --upgrade pip' command.\n"
     ]
    }
   ],
   "source": [
    "!pip install bs4\n",
    "!pip install requests\n",
    "# !pip install lxml\n",
    "# !pip install selenium\n",
    "!pip install pandas"
   ]
  },
  {
   "cell_type": "code",
   "execution_count": 11,
   "id": "78ca6b40-bbe2-48a1-897a-7cce989bbf8c",
   "metadata": {
    "tags": []
   },
   "outputs": [
    {
     "name": "stdout",
     "output_type": "stream",
     "text": [
      "{'HMSGDR': {'name': 'HMS Group ', 'sector': 'Машиностроение', 'rating': 50}, 'MVID': {'name': 'М.Видео ', 'sector': 'Розничная торговля', 'rating': 48}, 'BSPB': {'name': 'Банк Санкт-Петербург ', 'sector': 'Финансы и Банки', 'rating': 48}, 'POLY': {'name': 'Полиметалл ', 'sector': 'Металлы и добыча', 'rating': 47}, 'LSRG': {'name': 'ЛСР ', 'sector': 'Строительство', 'rating': 46}, 'SBER_p': {'name': 'Сбербанк-п ', 'sector': 'Финансы и Банки', 'rating': 46}, 'GMKN': {'name': 'Норникель ', 'sector': 'Металлы и добыча', 'rating': 44}, 'RSTI': {'name': 'Россети ', 'sector': 'Энергетика', 'rating': 44}, 'TATN': {'name': 'Татнефть ', 'sector': 'Нефть/Газ', 'rating': 44}, 'OGKB': {'name': 'ОГК-2 ', 'sector': 'Энергетика', 'rating': 44}, 'ETLNDR': {'name': 'Эталон ', 'sector': 'Строительство', 'rating': 44}, 'IRAO': {'name': 'Интер РАО ', 'sector': 'Энергетика', 'rating': 43}, 'NKNC_p': {'name': 'НКНХ-п ', 'sector': 'Химия', 'rating': 43}, 'SBER': {'name': 'Сбербанк ', 'sector': 'Финансы и Банки', 'rating': 43}, 'MRKP': {'name': 'МРСК Центра и Приволжья ', 'sector': 'Энергетика', 'rating': 43}, 'FEES': {'name': 'ФСК ЕЭС ', 'sector': 'Энергетика', 'rating': 42}, 'CHMF': {'name': 'Северсталь ', 'sector': 'Металлы и добыча', 'rating': 42}, 'ENPG': {'name': 'EN plus ', 'sector': 'Металлы и добыча', 'rating': 41}, 'TATN_p': {'name': 'Татнефть-п ', 'sector': 'Нефть/Газ', 'rating': 41}, 'GCHE': {'name': 'Черкизово ', 'sector': 'Розничная торговля', 'rating': 40}, 'LNTADR': {'name': 'Лента ', 'sector': 'Розничная торговля', 'rating': 40}, 'QIWIDR': {'name': 'Qiwi ', 'sector': 'Финансы и Банки', 'rating': 40}, 'MAGN': {'name': 'ММК ', 'sector': 'Металлы и добыча', 'rating': 39}, 'RUAL': {'name': 'Русал ', 'sector': 'Металлы и добыча', 'rating': 39}, 'VTBR': {'name': 'ВТБ ', 'sector': 'Финансы и Банки', 'rating': 39}, 'BANE_p': {'name': 'Башнефть-п ', 'sector': 'Нефть/Газ', 'rating': 39}, 'MRKC': {'name': 'МРСК Центра ', 'sector': 'Энергетика', 'rating': 39}, 'SIBN': {'name': 'Газпром нефть ', 'sector': 'Нефть/Газ', 'rating': 39}, 'OBUV': {'name': 'Обувь России ', 'sector': 'Розничная торговля', 'rating': 39}, 'BANE': {'name': 'Башнефть ', 'sector': 'Нефть/Газ', 'rating': 38}, 'NLMK': {'name': 'НЛМК ', 'sector': 'Металлы и добыча', 'rating': 38}, 'RTKM': {'name': 'Ростелеком ', 'sector': 'Телекомы', 'rating': 38}, 'HYDR': {'name': 'Русгидро ', 'sector': 'Энергетика', 'rating': 38}, 'AFKS': {'name': 'Система ', 'sector': 'Телекомы', 'rating': 38}, 'SNGS_p': {'name': 'Сургутнефтегаз-п  ', 'sector': 'Нефть/Газ', 'rating': 38}, 'MTLR_p': {'name': 'Мечел-п ', 'sector': 'Металлы и добыча', 'rating': 38}, 'BELU': {'name': 'Белуга Групп ', 'sector': 'Продовольствие', 'rating': 38}, 'MTSS': {'name': 'МТС ', 'sector': 'Телекомы', 'rating': 37}, 'PLZL': {'name': 'Полюс ', 'sector': 'Металлы и добыча', 'rating': 37}, 'RTKM_p': {'name': 'Ростелеком-п ', 'sector': 'Телекомы', 'rating': 37}, 'GVGL': {'name': 'Высочайший (GV Gold) ', 'sector': 'Металлы и добыча', 'rating': 36}, 'GAZP': {'name': 'Газпром ', 'sector': 'Нефть/Газ', 'rating': 36}, 'PHOR': {'name': 'Фосагро ', 'sector': 'Химия', 'rating': 36}, 'AGRODR': {'name': 'Русагро ', 'sector': 'Розничная торговля', 'rating': 36}, 'DSKY': {'name': 'Детский мир ', 'sector': 'Розничная торговля', 'rating': 36}, 'LSNG_p': {'name': 'Ленэнерго-п ', 'sector': 'Энергетика', 'rating': 36}, 'LSNG': {'name': 'Ленэнерго ', 'sector': 'Энергетика', 'rating': 35}, 'TGKA': {'name': 'ТГК-1 ', 'sector': 'Энергетика', 'rating': 35}, 'ENRU': {'name': 'Энел ', 'sector': 'Энергетика', 'rating': 35}, 'CBOM': {'name': 'МКБ ', 'sector': 'Финансы и Банки', 'rating': 35}, 'TRNF_p': {'name': 'Транснефть-п ', 'sector': 'Нефть/Газ', 'rating': 35}, 'AMEZ': {'name': 'Ашинский МЗ ', 'sector': 'Металлы и добыча', 'rating': 35}, 'AQUA': {'name': 'Русская Аквакультура ', 'sector': 'Продовольствие', 'rating': 35}, 'PIKK': {'name': 'ПИК ', 'sector': 'Строительство', 'rating': 34}, 'MTLR': {'name': 'Мечел ', 'sector': 'Металлы и добыча', 'rating': 34}, 'SNGS': {'name': 'Сургутнефтегаз  ', 'sector': 'Нефть/Газ', 'rating': 34}, 'RNFT': {'name': 'Русснефть ', 'sector': 'Нефть/Газ', 'rating': 34}, 'POGR': {'name': 'Петропавловск ', 'sector': 'Металлы и добыча', 'rating': 33}, 'GEMCDR': {'name': 'United Medical Group (ЕМС) ', 'sector': 'Разное', 'rating': 32}, 'NKNC': {'name': 'НКНХ ', 'sector': 'Химия', 'rating': 32}, 'GLTRDR': {'name': 'Globaltrans ', 'sector': 'Транспорт', 'rating': 32}, 'MSRS': {'name': 'МОЭСК ', 'sector': 'Энергетика', 'rating': 31}, 'RSTI_p': {'name': 'Россети-п ', 'sector': 'Энергетика', 'rating': 31}, 'MDMGDR': {'name': 'MD Medical Group ', 'sector': 'Разное', 'rating': 31}, 'KAZT': {'name': 'Куйбышевазот ', 'sector': 'Химия', 'rating': 30}, 'SGZH': {'name': 'Сегежа  ', 'sector': 'Разное', 'rating': 30}, 'ROSN': {'name': 'Роснефть ', 'sector': 'Нефть/Газ', 'rating': 30}, 'NMTP': {'name': 'НМТП ', 'sector': 'Транспорт', 'rating': 30}, 'UPRO': {'name': 'Юнипро ', 'sector': 'Энергетика', 'rating': 29}, 'LKOH': {'name': 'Лукойл ', 'sector': 'Нефть/Газ', 'rating': 29}, 'MRKU': {'name': 'МРСК Урала ', 'sector': 'Энергетика', 'rating': 29}, 'NVTK': {'name': 'Новатэк ', 'sector': 'Нефть/Газ', 'rating': 29}, 'AKRN': {'name': 'Акрон ', 'sector': 'Химия', 'rating': 28}, 'ALRS': {'name': 'Алроса ', 'sector': 'Металлы и добыча', 'rating': 28}, 'SVAV': {'name': 'Соллерс ', 'sector': 'Машиностроение', 'rating': 28}, 'MGNT': {'name': 'Магнит ', 'sector': 'Розничная торговля', 'rating': 27}, 'SFIN': {'name': 'Сафмар Фин ', 'sector': 'Финансы и Банки', 'rating': 26}, 'FLOT': {'name': 'Совкомфлот ', 'sector': 'Транспорт', 'rating': 26}, 'OKEYDR': {'name': 'ОКЕЙ ', 'sector': 'Розничная торговля', 'rating': 25}, 'FIXPDR': {'name': 'Fix Price ', 'sector': 'Розничная торговля', 'rating': 25}, 'KAZT_p': {'name': 'Куйбышевазот-п ', 'sector': 'Химия', 'rating': 25}, 'TCSGDR': {'name': 'TCS Group (Тинькофф) ', 'sector': 'Финансы и Банки', 'rating': 25}, 'HHRUDR': {'name': 'HeadHunter ', 'sector': 'Пром. услуги', 'rating': 24}, 'MOEX': {'name': 'Мосбиржа ', 'sector': 'Финансы и Банки', 'rating': 24}, 'FIVEDR': {'name': 'X5 Retail Group ', 'sector': 'Розничная торговля', 'rating': 24}, 'LNZL': {'name': 'Лензолото ', 'sector': 'Металлы и добыча', 'rating': 24}, 'MSNG': {'name': 'Мосэнерго ', 'sector': 'Энергетика', 'rating': 23}, 'TRMK': {'name': 'ТМК ', 'sector': 'Металлы и добыча', 'rating': 22}, 'KZOS': {'name': 'Казаньоргсинтез ', 'sector': 'Химия', 'rating': 22}, 'SMLT': {'name': 'ГК Самолет ', 'sector': 'Строительство', 'rating': 22}, 'MRKK': {'name': 'МРСК Северного Кавказа ', 'sector': 'Энергетика', 'rating': 21}, 'KZOS_p': {'name': 'Казаньоргсинтез-п ', 'sector': 'Химия', 'rating': 21}, 'LNZL_p': {'name': 'Лензолото-п ', 'sector': 'Металлы и добыча', 'rating': 21}, 'MGTS': {'name': 'МГТС ', 'sector': 'Телекомы', 'rating': 20}, 'KMAZ': {'name': 'Камаз ', 'sector': 'Машиностроение', 'rating': 20}, 'MRKZ': {'name': 'МРСК СЗ ', 'sector': 'Энергетика', 'rating': 20}, 'MRKY': {'name': 'МРСК Юга ', 'sector': 'Энергетика', 'rating': 19}, 'MAILdr': {'name': 'Mail.ru Group ', 'sector': 'Медиа', 'rating': 18}, 'RASP': {'name': 'Распадская ', 'sector': 'Металлы и добыча', 'rating': 18}, 'MRKV': {'name': 'МРСК Волги ', 'sector': 'Энергетика', 'rating': 18}, 'YNDX': {'name': 'Яндекс ', 'sector': 'ПО и IT', 'rating': 17}, 'UWGN': {'name': 'ОВК ', 'sector': 'Машиностроение', 'rating': 17}, 'OZONDR': {'name': 'Ozon ', 'sector': 'Розничная торговля', 'rating': 17}, 'AFLT': {'name': 'Аэрофлот ', 'sector': 'Транспорт', 'rating': 16}, 'MGTS_p': {'name': 'МГТС-п ', 'sector': 'Телекомы', 'rating': 15}, 'MRKS': {'name': 'МРСК Сибири ', 'sector': 'Энергетика', 'rating': 13}, 'APTK': {'name': 'Аптеки 36,6 ', 'sector': 'Розничная торговля', 'rating': 13}, 'VSMO': {'name': 'ВСМПО-Ависма ', 'sector': 'Металлы и добыча', 'rating': 12}, 'MSTT': {'name': 'Мостотрест ', 'sector': 'Строительство', 'rating': 11}}\n"
     ]
    }
   ],
   "source": [
    "from bs4 import BeautifulSoup\n",
    "import requests as req\n",
    "\n",
    "resp = req.get('https://www.dohod.ru/ik/analytics/share')\n",
    "soup = BeautifulSoup(resp.text, 'html')\n",
    "table = soup.find_all(id='table-stock-share')[0]#.tbody\n",
    "\n",
    "import pandas as pd\n",
    "\n",
    "table = soup.find_all('table')[0].tbody\n",
    "\n",
    "# print(table)\n",
    "\n",
    "data = {}\n",
    "for tr in table.find_all('tr'):\n",
    "    tds = tr.find_all('td')\n",
    "    ticker = tds[24].text.split('.')[0]\n",
    "    rating = int(tds[4].text.strip())\n",
    "    market = int(tds[1].text[-1:])\n",
    "    if market == 1:\n",
    "        data[ticker] = {'name':tds[1].text[:-8], 'sector':tds[2].text, 'rating':rating}\n",
    "print(data)"
   ]
  },
  {
   "cell_type": "code",
   "execution_count": 19,
   "id": "2865b620-3814-4db3-aa3d-01e52f27097f",
   "metadata": {
    "tags": []
   },
   "outputs": [],
   "source": [
    "import json\n",
    "\n",
    "iNames = {}\n",
    "with open('iNames.json') as json_file:\n",
    "    iNames = json.load(json_file)\n",
    "\n",
    "\n",
    "datalist = []\n",
    "keys = list(data.keys())\n",
    "for key in keys:\n",
    "    ###uppering###\n",
    "    parts = key.split('_')\n",
    "    if len(parts) > 1:\n",
    "        key = parts[0].upper() + '_p'\n",
    "    else:\n",
    "        key = key.upper()\n",
    "    ##############\n",
    "    try:\n",
    "        data[key]['name'] = iNames[key]\n",
    "        data[key]['ticker'] = key\n",
    "        data[key]['tech'] = 0\n",
    "        datalist.append(data[key])\n",
    "    except:\n",
    "        print(f'{key} ticker doesn-t exist')\n",
    "\n",
    "df = pd.DataFrame(datalist)\n",
    "\n",
    "print(df)"
   ]
  },
  {
   "cell_type": "code",
   "execution_count": null,
   "id": "7a2ce4ee-af1d-4b7e-99c2-81cac950f570",
   "metadata": {},
   "outputs": [],
   "source": []
  }
 ],
 "metadata": {
  "kernelspec": {
   "display_name": "Python 3 (ipykernel)",
   "language": "python",
   "name": "python3"
  },
  "language_info": {
   "codemirror_mode": {
    "name": "ipython",
    "version": 3
   },
   "file_extension": ".py",
   "mimetype": "text/x-python",
   "name": "python",
   "nbconvert_exporter": "python",
   "pygments_lexer": "ipython3",
   "version": "3.9.2"
  }
 },
 "nbformat": 4,
 "nbformat_minor": 5
}
