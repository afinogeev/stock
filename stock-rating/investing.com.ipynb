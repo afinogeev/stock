{
 "cells": [
  {
   "cell_type": "code",
   "execution_count": null,
   "id": "5747887e-0fb7-4ebd-a881-c5709769f425",
   "metadata": {
    "collapsed": true,
    "jupyter": {
     "outputs_hidden": true
    },
    "tags": []
   },
   "outputs": [
    {
     "name": "stderr",
     "output_type": "stream",
     "text": [
      "C:\\Users\\rustik\\AppData\\Local\\Temp/ipykernel_7144/3491609470.py:10: DeprecationWarning: use options instead of chrome_options\n",
      "  driver = webdriver.Chrome(chrome_options=option)\n"
     ]
    },
    {
     "name": "stdout",
     "output_type": "stream",
     "text": [
      "    Unnamed: 0         Название              1 час             1 день  \\\n",
      "0          NaN     Etalon Group         Нейтрально  Активно продавать   \n",
      "1          NaN  Fix Price Group         Нейтрально   Активно покупать   \n",
      "2          NaN  Globaltrans Inv   Активно покупать   Активно покупать   \n",
      "3          NaN   HeadHunter ADR   Активно покупать         Нейтрально   \n",
      "4          NaN    Mail.ru Group         Нейтрально  Активно продавать   \n",
      "..         ...              ...                ...                ...   \n",
      "94         NaN      ФСК ЕЭС ОАО   Активно покупать          Продавать   \n",
      "95         NaN         ЭН+ Груп   Активно покупать   Активно покупать   \n",
      "96         NaN  Энел Россия ОАО   Активно покупать   Активно покупать   \n",
      "97         NaN           Юнипро         Нейтрально  Активно продавать   \n",
      "98         NaN           Яндекс  Активно продавать  Активно продавать   \n",
      "\n",
      "               Неделя              Месяц  \n",
      "0   Активно продавать  Активно продавать  \n",
      "1            Покупать         Нейтрально  \n",
      "2    Активно покупать   Активно покупать  \n",
      "3    Активно покупать   Активно покупать  \n",
      "4   Активно продавать  Активно продавать  \n",
      "..                ...                ...  \n",
      "94  Активно продавать  Активно продавать  \n",
      "95   Активно покупать   Активно покупать  \n",
      "96   Активно покупать          Продавать  \n",
      "97  Активно продавать  Активно продавать  \n",
      "98   Активно покупать   Активно покупать  \n",
      "\n",
      "[99 rows x 6 columns]\n"
     ]
    }
   ],
   "source": [
    "import time\n",
    "from selenium import webdriver\n",
    "\n",
    "option = webdriver.ChromeOptions()\n",
    "chrome_prefs = {}\n",
    "option.experimental_options[\"prefs\"] = chrome_prefs\n",
    "chrome_prefs[\"profile.default_content_settings\"] = {\"images\": 2}\n",
    "chrome_prefs[\"profile.managed_default_content_settings\"] = {\"images\": 2}\n",
    "\n",
    "driver = webdriver.Chrome(chrome_options=option)\n",
    "\n",
    "# driver = webdriver.Chrome()\n",
    "\n",
    "driver.get('https://ru.investing.com/equities/russia')\n",
    "\n",
    "driver.find_element_by_xpath('//*[@id=\"all]').click()\n",
    "\n",
    "time.sleep(5)\n",
    "\n",
    "driver.find_element_by_xpath('//*[@id=\"filter_technical\"]').click()\n",
    "\n",
    "time.sleep(5)\n",
    "\n",
    "tbl = driver.find_element_by_xpath('//*[@id=\"marketsTechnical\"]').get_attribute('outerHTML')\n",
    "\n",
    "import pandas as pd\n",
    "\n",
    "df  = pd.read_html(tbl)[0]\n",
    "\n",
    "print(df)\n",
    "\n",
    "driver.close()"
   ]
  },
  {
   "cell_type": "code",
   "execution_count": 7,
   "id": "b8c96ccc-202e-4ad1-82cb-4f993ae1c2fc",
   "metadata": {},
   "outputs": [],
   "source": [
    "import pandas as pd\n",
    "\n",
    "df = pd.DataFrame()\n",
    "\n",
    "for i in range(1,14):\n",
    "    dff = pd.read_csv(f'investing/{i}.csv')\n",
    "    if i==1:\n",
    "        df = dff\n",
    "    else:\n",
    "        df = df.append(dff, ignore_index=True)\n",
    "\n",
    "df = df[['Название', 'Тикер']]\n",
    "\n",
    "data = df.values.tolist()\n",
    "# print(data)\n",
    "ll = {}\n",
    "for d in data:\n",
    "    # print(d)\n",
    "    ticker = d[1]\n",
    "    name = d[0]\n",
    "    if len(ticker.split('-')) < 2:\n",
    "        ll[ticker] = name\n",
    "        \n",
    "print(ll)\n",
    "\n",
    "import json\n",
    "\n",
    "with open('investingNames.json', 'w') as outfile:\n",
    "    json.dump(ll, outfile)"
   ]
  }
 ],
 "metadata": {
  "kernelspec": {
   "display_name": "Python 3 (ipykernel)",
   "language": "python",
   "name": "python3"
  },
  "language_info": {
   "codemirror_mode": {
    "name": "ipython",
    "version": 3
   },
   "file_extension": ".py",
   "mimetype": "text/x-python",
   "name": "python",
   "nbconvert_exporter": "python",
   "pygments_lexer": "ipython3",
   "version": "3.9.2"
  }
 },
 "nbformat": 4,
 "nbformat_minor": 5
}
