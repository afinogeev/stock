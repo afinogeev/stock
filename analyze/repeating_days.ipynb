{
 "cells": [
  {
   "cell_type": "code",
   "execution_count": 35,
   "id": "bcf16638-7b6d-4bd3-9c76-e5ab15e6d68f",
   "metadata": {},
   "outputs": [],
   "source": [
    "import pandas as pd\n",
    "\n",
    "import matplotlib.pyplot as plt\n",
    "plt.close(\"all\")\n",
    "\n",
    "import numpy as np"
   ]
  },
  {
   "cell_type": "code",
   "execution_count": 2,
   "id": "aabcdceb-b11d-4063-8b60-3ce5c87f4b42",
   "metadata": {
    "collapsed": true,
    "jupyter": {
     "outputs_hidden": true
    },
    "tags": []
   },
   "outputs": [
    {
     "name": "stdout",
     "output_type": "stream",
     "text": [
      "        open   close     low    high\n",
      "0      97.80   95.38   95.38   97.80\n",
      "1      95.53   93.74   93.50   95.67\n",
      "2      93.76   93.71   93.29   94.50\n",
      "3       0.00   91.70    0.00   91.73\n",
      "4       0.00   92.33    0.00   92.33\n",
      "...      ...     ...     ...     ...\n",
      "1996  349.68  332.05  328.79  510.00\n",
      "1997  332.05  327.15  325.22  333.37\n",
      "1998  327.58  327.56  326.61  330.06\n",
      "1999  330.18  323.13  323.13  331.15\n",
      "2000  324.34  324.54  324.32  325.18\n",
      "\n",
      "[2001 rows x 4 columns]\n"
     ]
    }
   ],
   "source": [
    "rawdata = pd.read_csv('data/SBERPRICE.csv', delimiter=';', index_col=False)\n",
    "del rawdata['num']\n",
    "#rawdata = rawdata.iloc[:,0]\n",
    "print(rawdata)"
   ]
  },
  {
   "cell_type": "code",
   "execution_count": 46,
   "id": "10733ec2-ddbd-4e1c-a798-e209325c314f",
   "metadata": {
    "tags": []
   },
   "outputs": [
    {
     "name": "stdout",
     "output_type": "stream",
     "text": [
      "        open   close     low    high\n",
      "0      97.80   95.38   95.38   97.80\n",
      "1      95.53   93.74   93.50   95.67\n",
      "2      93.76   93.71   93.29   94.50\n",
      "5      93.91   91.28   90.86   93.91\n",
      "7      89.67   91.00   88.00   91.00\n",
      "...      ...     ...     ...     ...\n",
      "1995  335.56  339.05  333.31  339.05\n",
      "1997  332.05  327.15  325.22  333.37\n",
      "1998  327.58  327.56  326.61  330.06\n",
      "1999  330.18  323.13  323.13  331.15\n",
      "2000  324.34  324.54  324.32  325.18\n",
      "\n",
      "[1990 rows x 4 columns]\n"
     ]
    }
   ],
   "source": [
    "keywords = ['open', 'close', 'low', 'high']\n",
    "for word in keywords:\n",
    "    rawdata.drop(rawdata[(rawdata[word] >500) | (rawdata[word] < 50)].index, inplace=True)\n",
    "df = rawdata\n",
    "print(df)"
   ]
  },
  {
   "cell_type": "code",
   "execution_count": 31,
   "id": "bb2c3718-a2b7-42dc-ab4c-81e9c72f41b3",
   "metadata": {
    "collapsed": true,
    "jupyter": {
     "outputs_hidden": true
    },
    "tags": []
   },
   "outputs": [
    {
     "name": "stdout",
     "output_type": "stream",
     "text": [
      "[1, 4, 1, 2, 2, 2, 1, 4, 1, 1, 1, 1, 1, 1, 3, 1, 2, 1, 1, 2, 1, 1, 4, 2, 3, 1, 2, 1, 1, 1, 3, 1, 2, 2, 1, 2, 3, 1, 8, 3, 2, 2, 3, 1, 1, 1, 1, 1, 1, 1, 1, 1, 1, 2, 3, 7, 4, 1, 1, 2, 2, 1, 2, 3, 1, 1, 2, 3, 2, 1, 1, 1, 1, 1, 2, 2, 2, 2, 4, 2, 1, 2, 3, 2, 2, 5, 1, 1, 1, 1, 1, 1, 2, 1, 1, 1, 2, 2, 1, 1, 2, 1, 2, 1, 1, 3, 1, 1, 2, 1, 1, 7, 1, 4, 2, 2, 1, 1, 1, 6, 3, 1, 1, 1, 1, 1, 1, 1, 2, 5, 4, 1, 2, 5, 1, 1, 6, 1, 2, 2, 3, 3, 1, 1, 1, 2, 3, 1, 3, 2, 3, 1, 4, 3, 3, 3, 2, 1, 1, 9, 1, 1, 2, 2, 1, 1, 6, 1, 2, 1, 3, 2, 2, 1, 4, 1, 1, 1, 5, 1, 1, 2, 2, 5, 1, 1, 3, 1, 2, 2, 4, 3, 4, 6, 1, 2, 2, 2, 1, 1, 3, 3, 1, 1, 2, 1, 2, 1, 1, 1, 2, 1, 3, 2, 3, 5, 1, 4, 1, 1, 6, 2, 3, 2, 1, 1, 1, 1, 2, 1, 1, 1, 1, 5, 2, 1, 1, 3, 2, 3, 1, 3, 1, 4, 2, 1, 3, 2, 2, 3, 2, 2, 1, 1, 1, 2, 3, 2, 1, 1, 1, 1, 1, 2, 1, 1, 3, 3, 1, 1, 2, 1, 2, 3, 1, 4, 2, 1, 1, 1, 1, 1, 1, 2, 1, 1, 1, 3, 1, 1, 2, 2, 1, 2, 3, 1, 1, 1, 2, 1, 1, 1, 2, 4, 3, 1, 3, 2, 1, 1, 1, 1, 2, 1, 1, 1, 3, 2, 1, 2, 1, 2, 1, 3, 3, 4, 2, 2, 1, 1, 1, 1, 1, 3, 1, 2, 2, 5, 3, 1, 1, 1, 3, 1, 1, 2, 1, 1, 1, 1, 4, 2, 1, 1, 5, 1, 1, 1, 3, 1, 2, 2, 4, 2, 3, 2, 1, 1, 1, 1, 2, 1, 1, 1, 1, 1, 2, 2, 2, 1, 2, 6, 2, 2, 2, 1, 2, 1, 1, 3, 4, 1, 1, 2, 1, 2, 1, 1, 1, 1, 1, 1, 4, 1, 1, 3, 3, 1, 2, 3, 1, 2, 1, 1, 1, 2, 1, 2, 2, 1, 1, 1, 3, 5, 1, 2, 4, 1, 1, 1, 8, 1, 1, 1, 2, 1, 3, 1, 3, 3, 1, 1, 3, 1, 2, 1, 1, 1, 5, 1, 1, 1, 1, 1, 1, 2, 2, 1, 7, 1, 1, 2, 1, 2, 2, 3, 1, 2, 2, 2, 2, 1, 1, 1, 1, 1, 2, 2, 2, 1, 1, 1, 2, 3, 3, 2, 2, 1, 1, 1, 2, 2, 2, 2, 7, 1, 1, 1, 1, 1, 1, 1, 2, 1, 1, 1, 1, 1, 3, 1, 1, 1, 1, 1, 1, 1, 7, 3]\n"
     ]
    }
   ],
   "source": [
    "up = []\n",
    "down = []\n",
    "upcnt = 0\n",
    "downcnt = 0\n",
    "for index, row in df.iterrows():\n",
    "    op = row['open'] \n",
    "    cl = row['close']\n",
    "    if op < cl:\n",
    "        upcnt = upcnt + 1\n",
    "        if downcnt: down.append(downcnt)\n",
    "        downcnt = 0\n",
    "    else:\n",
    "        downcnt = downcnt + 1\n",
    "        if upcnt: up.append(upcnt)\n",
    "        upcnt = 0\n",
    "print(up)"
   ]
  },
  {
   "cell_type": "code",
   "execution_count": 32,
   "id": "29275305-7521-4c82-a97b-7047c0b0d6de",
   "metadata": {},
   "outputs": [
    {
     "name": "stdout",
     "output_type": "stream",
     "text": [
      "1.864864864864865\n",
      "518\n"
     ]
    }
   ],
   "source": [
    "sumup = sum(up)\n",
    "avr = sumup/len(up)\n",
    "print(avr)\n",
    "print(len(up))"
   ]
  },
  {
   "cell_type": "code",
   "execution_count": 40,
   "id": "c466b559-b696-4089-801e-76ba6e542024",
   "metadata": {},
   "outputs": [
    {
     "name": "stdout",
     "output_type": "stream",
     "text": [
      "(array([276, 133,  63,  21,  11,   6,   5,   3], dtype=int64), array([1., 2., 3., 4., 5., 6., 7., 8., 9.]))\n",
      "0.5328185328185329\n"
     ]
    }
   ],
   "source": [
    "hst = np.histogram(a=up, bins=max(up)-1)\n",
    "print(hst)\n",
    "print(hst[0][0]/len(up))"
   ]
  },
  {
   "cell_type": "code",
   "execution_count": 37,
   "id": "89963670-fa61-4fb5-b436-c9c7ff26d580",
   "metadata": {},
   "outputs": [
    {
     "data": {
      "text/plain": [
       "(array([276., 133.,  63.,  21.,  11.,   6.,   5.,   3.]),\n",
       " array([1., 2., 3., 4., 5., 6., 7., 8., 9.]),\n",
       " <BarContainer object of 8 artists>)"
      ]
     },
     "execution_count": 37,
     "metadata": {},
     "output_type": "execute_result"
    },
    {
     "data": {
      "image/png": "[encoded data removed]",
      "text/plain": [
       "<Figure size 432x288 with 1 Axes>"
      ]
     },
     "metadata": {
      "needs_background": "light"
     },
     "output_type": "display_data"
    }
   ],
   "source": [
    "counts, bins = np.histogram(a=up, bins=max(up)-1)\n",
    "plt.hist(bins[:-1], bins, weights=counts)"
   ]
  },
  {
   "cell_type": "code",
   "execution_count": 38,
   "id": "82d47fb8-351b-493d-b298-b7d40eaa4424",
   "metadata": {},
   "outputs": [
    {
     "name": "stdout",
     "output_type": "stream",
     "text": [
      "519\n"
     ]
    },
    {
     "data": {
      "text/plain": [
       "(array([266., 120.,  69.,  33.,  16.,  11.,   2.,   1.,   1.]),\n",
       " array([ 1.,  2.,  3.,  4.,  5.,  6.,  7.,  8.,  9., 10.]),\n",
       " <BarContainer object of 9 artists>)"
      ]
     },
     "execution_count": 38,
     "metadata": {},
     "output_type": "execute_result"
    },
    {
     "data": {
      "image/png": "[encoded data removed]",
      "text/plain": [
       "<Figure size 432x288 with 1 Axes>"
      ]
     },
     "metadata": {
      "needs_background": "light"
     },
     "output_type": "display_data"
    }
   ],
   "source": [
    "print(len(down))\n",
    "counts, bins = np.histogram(a=down, bins=max(down)-1)\n",
    "plt.hist(bins[:-1], bins, weights=counts)"
   ]
  },
  {
   "cell_type": "code",
   "execution_count": null,
   "id": "fbc534d0-4fca-42f9-bdb5-ac27d03d8c57",
   "metadata": {},
   "outputs": [],
   "source": []
  }
 ],
 "metadata": {
  "kernelspec": {
   "display_name": "Python 3 (ipykernel)",
   "language": "python",
   "name": "python3"
  },
  "language_info": {
   "codemirror_mode": {
    "name": "ipython",
    "version": 3
   },
   "file_extension": ".py",
   "mimetype": "text/x-python",
   "name": "python",
   "nbconvert_exporter": "python",
   "pygments_lexer": "ipython3",
   "version": "3.9.2"
  }
 },
 "nbformat": 4,
 "nbformat_minor": 5
}
