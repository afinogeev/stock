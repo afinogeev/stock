{
 "cells": [
  {
   "cell_type": "code",
   "execution_count": 1,
   "id": "67e83afd-59ed-438b-a7a1-0d004592134e",
   "metadata": {},
   "outputs": [
    {
     "name": "stdout",
     "output_type": "stream",
     "text": [
      "['Сбербанк (прив.)', 'Татнефть', 'Группа ЛСР', 'Сбербанк', 'Интер РАО ЕЭС ОАО', 'ММК', 'Северсталь', 'Татнефть (прив.)', 'Газпром', 'Норникель']\n",
      "waiting data\n",
      "try 1 load technical data\n"
     ]
    }
   ],
   "source": [
    "import pandas as pd\n",
    "import json\n",
    "from selenium import webdriver\n",
    "import time\n",
    "\n",
    "filename = \"moexrating-stocks.json\"\n",
    "\n",
    "def getPrices():\n",
    "    options = webdriver.ChromeOptions()\n",
    "    chrome_prefs = {}\n",
    "    options.experimental_options[\"prefs\"] = chrome_prefs\n",
    "    chrome_prefs[\"profile.default_content_settings\"] = {\"images\": 2}\n",
    "    chrome_prefs[\"profile.managed_default_content_settings\"] = {\"images\": 2}\n",
    "    options.headless = True\n",
    "    options.add_argument(\"--headless\")\n",
    "    options.add_argument('--no-sandbox')\n",
    "    driver = webdriver.Chrome(options=options)  \n",
    "    driver.get('https://ru.investing.com/equities/russia')\n",
    "    driver.find_element_by_xpath('//*[@id=\"13666\"]').click()\n",
    "    print('waiting data')\n",
    "    for i in range(1,11):\n",
    "        try:\n",
    "            print(f'try {i} load technical data')\n",
    "            time.sleep(5)\n",
    "            tbl = driver.find_element_by_xpath('//*[@id=\"cross_rate_markets_stocks_1\"]').get_attribute('outerHTML')\n",
    "            break\n",
    "        except:\n",
    "            print('cannot load technical data')\n",
    "            if i == 10: return\n",
    "    driver.close()\n",
    "    \n",
    "    return tbl\n",
    "\n",
    "with open(filename) as file:\n",
    "    data = json.load(file)\n",
    "\n",
    "df = pd.read_json(\"moexrating-stocks.json\")\n",
    "names10 = df['name'].head(10).values.tolist()\n",
    "print(names10)\n",
    "\n",
    "tbl = getPrices()"
   ]
  },
  {
   "cell_type": "code",
   "execution_count": 2,
   "id": "d0fcd9c0-5327-4d31-93d7-8b8d3d01c638",
   "metadata": {
    "tags": []
   },
   "outputs": [
    {
     "name": "stdout",
     "output_type": "stream",
     "text": [
      "[{'name': 'Сбербанк (прив.)', 'price': 297.14}, {'name': 'Татнефть', 'price': 493.0}, {'name': 'Группа ЛСР', 'price': 725.8}, {'name': 'Сбербанк', 'price': 321.7}, {'name': 'Интер РАО ЕЭС ОАО', 'price': 4.4545}, {'name': 'ММК', 'price': 63.25}, {'name': 'Северсталь', 'price': 1575.0}, {'name': 'Татнефть (прив.)', 'price': 451.3}, {'name': 'Газпром', 'price': 346.78}, {'name': 'Норникель', 'price': 21896.0}]\n"
     ]
    }
   ],
   "source": [
    "from bs4 import BeautifulSoup\n",
    "\n",
    "datalist = []\n",
    "\n",
    "soup = BeautifulSoup(tbl, 'lxml')\n",
    "trs = soup.find_all('tr')\n",
    "for name10 in names10:\n",
    "    for tr in trs[1:]:\n",
    "        tds = tr.find_all('td')\n",
    "        name = tds[1].find('a').text\n",
    "        price = float(tds[2].text.replace('.','').replace(',','.'))\n",
    "        if name == name10:\n",
    "            datalist.append({'name': name, 'price': price})\n",
    "    \n",
    "print(datalist)\n",
    "    \n",
    "#     data = {}\n",
    "#     data['name'] = "
   ]
  },
  {
   "cell_type": "code",
   "execution_count": 5,
   "id": "20bf12e3-cca7-4454-b373-6ed9d6094e4a",
   "metadata": {},
   "outputs": [
    {
     "name": "stdout",
     "output_type": "stream",
     "text": [
      "[{'name': 'Сбербанк (прив.)', 'price': 297.14, 'cost': 1450.0, 'quantity': 4.879854613986673}, {'name': 'Татнефть', 'price': 493.0, 'cost': 1349.9999999999998, 'quantity': 2.7383367139959427}, {'name': 'Группа ЛСР', 'price': 725.8, 'cost': 1249.9999999999998, 'quantity': 1.7222375310002753}, {'name': 'Сбербанк', 'price': 321.7, 'cost': 1150.0, 'quantity': 3.574759092322039}, {'name': 'Интер РАО ЕЭС ОАО', 'price': 4.4545, 'cost': 1049.9999999999998, 'quantity': 235.71669098664265}, {'name': 'ММК', 'price': 63.25, 'cost': 949.9999999999999, 'quantity': 15.019762845849801}, {'name': 'Северсталь', 'price': 1575.0, 'cost': 849.9999999999999, 'quantity': 0.5396825396825397}, {'name': 'Татнефть (прив.)', 'price': 451.3, 'cost': 749.9999999999999, 'quantity': 1.6618657212497228}, {'name': 'Газпром', 'price': 346.78, 'cost': 649.9999999999999, 'quantity': 1.874387219562835}, {'name': 'Норникель', 'price': 21896.0, 'cost': 549.9999999999999, 'quantity': 0.02511874314943368}]\n"
     ]
    }
   ],
   "source": [
    "balance = 10000\n",
    "for i in range(0,10):\n",
    "    cost = balance*(0.145-i*0.01)\n",
    "    quantity = cost/float(datalist[i]['price'])\n",
    "    datalist[i]['cost'] = cost\n",
    "    datalist[i]['quantity'] = quantity\n",
    "print(datalist)\n",
    "    "
   ]
  },
  {
   "cell_type": "code",
   "execution_count": null,
   "id": "efd3dd1a-7c50-41c4-9401-c17c9e6be5c3",
   "metadata": {},
   "outputs": [],
   "source": []
  }
 ],
 "metadata": {
  "kernelspec": {
   "display_name": "Python 3 (ipykernel)",
   "language": "python",
   "name": "python3"
  },
  "language_info": {
   "codemirror_mode": {
    "name": "ipython",
    "version": 3
   },
   "file_extension": ".py",
   "mimetype": "text/x-python",
   "name": "python",
   "nbconvert_exporter": "python",
   "pygments_lexer": "ipython3",
   "version": "3.9.2"
  }
 },
 "nbformat": 4,
 "nbformat_minor": 5
}
